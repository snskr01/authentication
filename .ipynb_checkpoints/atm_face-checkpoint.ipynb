{
 "cells": [
  {
   "cell_type": "code",
   "execution_count": 1,
   "metadata": {},
   "outputs": [],
   "source": [
    "import cv2\n",
    "import codecs\n",
    "import os\n",
    "import random\n",
    "import numpy as np\n",
    "from matplotlib import pyplot as plt\n",
    "import tensorflow as tf\n",
    "#import tensorflow.compat.v1 as tf1\n",
    "#tf1.disable_v2_behavior()\n",
    "from keras.models import Model\n",
    "from keras.layers import Layer, Conv2D, Dense, MaxPooling2D, Input, Flatten\n",
    "gpus = tf.config.experimental.list_physical_devices('GPU')\n",
    "from keras.metrics import Precision, Recall\n",
    "for gpu in gpus: \n",
    "    print(gpu)\n",
    "    tf.config.experimental.set_memory_growth(gpu, True)"
   ]
  },
  {
   "cell_type": "code",
   "execution_count": 2,
   "metadata": {},
   "outputs": [],
   "source": [
    "# os.makedirs(POS_PATH)\n",
    "# os.makedirs(NEG_PATH)\n",
    "# os.makedirs(ANC_PATH)\n",
    "# for directory in os.listdir('lfw'):\n",
    "    # for file in os.listdir(os.path.join('lfw', directory)):\n",
    "        # EX_PATH = os.path.join('lfw', directory, file)\n",
    "        # NEW_PATH = os.path.join(NEG_PATH, file)\n",
    "        # os.replace(EX_PATH, NEW_PATH)\n",
    "        #this code was to copy files from one place to another"
   ]
  },
  {
   "cell_type": "code",
   "execution_count": 3,
   "metadata": {},
   "outputs": [
    {
     "name": "stdout",
     "output_type": "stream",
     "text": [
      "negs_size_1\n",
      "2225\n",
      "pos_size\n",
      "750\n",
      "negs_size_2\n",
      "2225\n"
     ]
    }
   ],
   "source": [
    "cur_path = os.getcwd()\n",
    "\n",
    "def mini(a, b):\n",
    "    if a > b:\n",
    "        return a\n",
    "    else:\n",
    "        return b\n",
    "    \n",
    "for directory in os.listdir(os.path.join(cur_path, 'data', 'positive')):\n",
    "    POS_PATH = os.path.join(cur_path, 'data', 'positive', directory, '*')\n",
    "    positive = tf.data.Dataset.list_files(POS_PATH).take(1)\n",
    "positives = tf.data.Dataset.zip((positive, positive, tf.data.Dataset.from_tensor_slices(tf.ones(len(positive)))))\n",
    "\n",
    "for directory in os.listdir(os.path.join(cur_path, 'data', 'positive')):\n",
    "    POS_PATH = os.path.join(cur_path, 'data', 'positive', directory, '*')\n",
    "    positive = tf.data.Dataset.list_files(POS_PATH)\n",
    "    positive_s = positive.shuffle(1000, reshuffle_each_iteration=True)\n",
    "    positive1 = tf.data.Dataset.zip((positive, positive_s, tf.data.Dataset.from_tensor_slices(tf.ones(len(positive)))))\n",
    "    positives = positives.concatenate(positive1)\n",
    "positives = positives.shuffle(30000, reshuffle_each_iteration=True)\n",
    "positives = positives.take(1000)\n",
    "#for i in positives:\n",
    "    #print(i)\n",
    "\n",
    "\n",
    "\n",
    "for directory in os.listdir(os.path.join(cur_path, 'data', 'positive')):\n",
    "    PER_PATH = os.path.join(cur_path, 'data', 'positive', directory, '*')\n",
    "negative = tf.data.Dataset.list_files(PER_PATH).take(1)\n",
    "negatives = tf.data.Dataset.zip((negative, negative, tf.data.Dataset.from_tensor_slices(tf.ones(len(negative)))))\n",
    "\n",
    "for directory in os.listdir(os.path.join(cur_path, 'data', 'positive')):\n",
    "    for directory1 in os.listdir(os.path.join(cur_path, 'data', 'positive')):\n",
    "        if directory != directory1:\n",
    "            PER_PATH = os.path.join(cur_path, 'data', 'positive', directory, '*')\n",
    "            NPER_PATH = os.path.join(cur_path, 'data', 'positive', directory1, '*')\n",
    "            person = tf.data.Dataset.list_files(PER_PATH)\n",
    "            n_person = tf.data.Dataset.list_files(NPER_PATH)\n",
    "            negative1 = tf.data.Dataset.zip((person, n_person, tf.data.Dataset.from_tensor_slices(tf.zeros(len(person)))))\n",
    "            negative2 = tf.data.Dataset.zip((n_person, person, tf.data.Dataset.from_tensor_slices(tf.zeros(len(person)))))\n",
    "            negatives = negatives.concatenate(negative1)\n",
    "            negatives = negatives.concatenate(negative2)\n",
    "print('negs_size_1')\n",
    "print(len(negatives))\n",
    "\n",
    "\n",
    "\n",
    "print('pos_size')\n",
    "print(len(positives))\n",
    "print('negs_size_2')\n",
    "print(len(negatives))\n",
    "negatives = negatives.shuffle(30000, reshuffle_each_iteration=True)\n",
    "negatives = negatives.take(1000)\n",
    "#for i in negatives:\n",
    "    #print(i)\n",
    "\n",
    "\n",
    "\n",
    "\n",
    "def preprocess(file_path):\n",
    "    with tf.device(\"/device:CPU:0\"):\n",
    "        byte_img = tf.io.read_file(file_path)\n",
    "        img = tf.io.decode_jpeg(byte_img)\n",
    "        print(file_path)\n",
    "        if img.shape[1]==2160:\n",
    "            img = img[840:840+2160,0:2160, :]\n",
    "        if img.shape[1]==1080:\n",
    "            img = img[420:420+1080,0:1080, :]\n",
    "        img = img/255\n",
    "        img = tf.image.resize(img, (100,100), antialias=True)\n",
    "        return img\n",
    "\n",
    "def preprocess_twin(input_img, validation_img, label):\n",
    "    return(preprocess(input_img), preprocess(validation_img), label)\n",
    "\n",
    "data = positives.concatenate(negatives)\n",
    "data = data.shuffle(10000, reshuffle_each_iteration=True)\n",
    "        "
   ]
  },
  {
   "cell_type": "code",
   "execution_count": null,
   "metadata": {},
   "outputs": [],
   "source": []
  },
  {
   "cell_type": "code",
   "execution_count": 4,
   "metadata": {},
   "outputs": [
    {
     "name": "stdout",
     "output_type": "stream",
     "text": [
      "Tensor(\"args_0:0\", shape=(), dtype=string)\n",
      "Tensor(\"args_1:0\", shape=(), dtype=string)\n"
     ]
    }
   ],
   "source": [
    "\n",
    "data = data.map(preprocess_twin)\n",
    "data = data.cache()\n",
    "data = data.shuffle(buffer_size=1024)"
   ]
  },
  {
   "cell_type": "code",
   "execution_count": 5,
   "metadata": {},
   "outputs": [],
   "source": [
    "train_data = data.take(round(len(data)*0.7))\n",
    "train_data = train_data.batch(16)\n",
    "train_data = train_data.prefetch(8)\n",
    "train_samples = train_data.as_numpy_iterator()\n",
    "train_sample = train_samples.next()"
   ]
  },
  {
   "cell_type": "code",
   "execution_count": 6,
   "metadata": {},
   "outputs": [],
   "source": [
    "def make_embedding(): \n",
    "    inp = Input(shape=(100,100,3), name='input_image')\n",
    "    \n",
    "    c1 = Conv2D(16, (10,10), activation='relu')(inp)\n",
    "    m1 = MaxPooling2D(64, (2,2), padding='same')(c1)\n",
    "    \n",
    "    \n",
    "    c2 = Conv2D(32, (7,7), activation='relu')(m1)\n",
    "    m2 = MaxPooling2D(64, (2,2), padding='same')(c2)\n",
    "    \n",
    "     \n",
    "    c3 = Conv2D(128, (4,4), activation='relu')(m2)\n",
    "    m3 = MaxPooling2D(64, (2,2), padding='same')(c3)\n",
    "    \n",
    "    \n",
    "    c4 = Conv2D(256, (4,4), activation='relu')(m3)\n",
    "    f1 = Flatten()(c4)\n",
    "    d1 = Dense(4096, activation='sigmoid')(f1)\n",
    "    \n",
    "    \n",
    "    return Model(inputs=[inp], outputs=[d1], name='embedding')\n",
    "embedding = make_embedding()"
   ]
  },
  {
   "cell_type": "code",
   "execution_count": 7,
   "metadata": {},
   "outputs": [],
   "source": [
    "class L1Dist(Layer):\n",
    "    \n",
    "    \n",
    "    def __init__(self, **kwargs):\n",
    "        super().__init__()\n",
    "       \n",
    "    \n",
    "    def call(self, input_embedding, validation_embedding):\n",
    "        return tf.math.abs(input_embedding - validation_embedding)"
   ]
  },
  {
   "cell_type": "code",
   "execution_count": 8,
   "metadata": {},
   "outputs": [],
   "source": [
    "def make_siamese_model(): \n",
    "    \n",
    "    \n",
    "    input_image = Input(name='input_img', shape=(100,100,3))\n",
    "    \n",
    "     \n",
    "    validation_image = Input(name='validation_img', shape=(100,100,3))\n",
    "    \n",
    "    \n",
    "    siamese_layer = L1Dist()\n",
    "    siamese_layer._name = 'distance'\n",
    "    distances = siamese_layer(embedding(input_image), embedding(validation_image))\n",
    "    \n",
    "     \n",
    "    classifier = Dense(1, activation='sigmoid')(distances)\n",
    "    \n",
    "    return Model(inputs=[input_image, validation_image], outputs=classifier, name='SiameseNetwork')\n",
    "siamese_model = make_siamese_model()"
   ]
  },
  {
   "cell_type": "code",
   "execution_count": 9,
   "metadata": {},
   "outputs": [],
   "source": [
    "binary_cross_loss = tf.losses.BinaryCrossentropy()\n",
    "\n",
    "opt = tf.keras.optimizers.Adam(1e-4) # 0.0001\n",
    "\n",
    "checkpoint_dir = './training_checkpoints'\n",
    "checkpoint_prefix = os.path.join(checkpoint_dir, 'ckpt')\n",
    "checkpoint = tf.train.Checkpoint(opt=opt, siamese_model=siamese_model)\n"
   ]
  },
  {
   "cell_type": "code",
   "execution_count": 10,
   "metadata": {},
   "outputs": [],
   "source": [
    "\n",
    "\n",
    "@tf.function\n",
    "def train_step(batch):\n",
    "    with tf.GradientTape() as tape:     \n",
    "        X = batch[:2]\n",
    "        y = batch[2]\n",
    "        yhat = siamese_model(X, training=True)\n",
    "        loss = binary_cross_loss(y, yhat)\n",
    "    print(loss)\n",
    "    grad = tape.gradient(loss, siamese_model.trainable_variables)\n",
    "    opt.apply_gradients(zip(grad, siamese_model.trainable_variables))\n",
    "    return loss\n",
    "\n"
   ]
  },
  {
   "cell_type": "code",
   "execution_count": 11,
   "metadata": {},
   "outputs": [],
   "source": [
    "def train(data, EPOCHS):\n",
    "    for epoch in range(1, EPOCHS+1):\n",
    "        print('\\n Epoch {}/{}'.format(epoch, EPOCHS))\n",
    "        progbar = tf.keras.utils.Progbar(len(data))\n",
    "        r = Recall()\n",
    "        p = Precision()\n",
    "        for idx, batch in enumerate(data):\n",
    "            loss = train_step(batch)\n",
    "            yhat = siamese_model.predict(batch[:2])\n",
    "            r.update_state(batch[2], yhat)\n",
    "            p.update_state(batch[2], yhat) \n",
    "            progbar.update(idx+1)\n",
    "        print(loss.numpy(), r.result().numpy(), p.result().numpy())\n",
    "\n"
   ]
  },
  {
   "cell_type": "code",
   "execution_count": null,
   "metadata": {},
   "outputs": [],
   "source": [
    "EPOCHS = 50\n",
    "\n",
    "train(train_data, EPOCHS)\n",
    "\n"
   ]
  },
  {
   "cell_type": "code",
   "execution_count": null,
   "metadata": {},
   "outputs": [],
   "source": [
    "siamese_model.compile(optimizer=opt, loss=binary_cross_loss)\n",
    "siamese_model.save('siamesemodelv5.h5')"
   ]
  },
  {
   "cell_type": "code",
   "execution_count": null,
   "metadata": {},
   "outputs": [],
   "source": [
    "from tensorflow.keras.metrics import Precision, Recall\n",
    "test_data = data.skip(round(len(data)*.7))\n",
    "test_data = test_data.take(round(len(data)*.3))\n",
    "test_data = test_data.batch(16)\n",
    "test_data = test_data.prefetch(8)\n",
    "test_input, test_val, y_true = test_data.as_numpy_iterator().next()\n",
    "siamese_model = tf.keras.models.load_model('siamesemodelv2.h5', \n",
    "                                   custom_objects={'L1Dist':L1Dist})\n",
    "y_hat = siamese_model.predict([test_input, test_val])\n",
    "print([1 if prediction > 0.9 else 0 for prediction in y_hat ])\n",
    "print(y_true)"
   ]
  },
  {
   "cell_type": "code",
   "execution_count": null,
   "metadata": {},
   "outputs": [],
   "source": [
    "from tensorflow.keras.metrics import Precision, Recall\n",
    "test_data = data.skip(round(len(data)*.7))\n",
    "test_data = test_data.take(round(len(data)*.3))\n",
    "test_data = test_data.batch(16)\n",
    "test_data = test_data.prefetch(8)\n",
    "test_input, test_val, y_true = test_data.as_numpy_iterator().next()\n",
    "y_hat = siamese_model.predict([test_input, test_val])\n",
    "print([1 if prediction > 0.9 else 0 for prediction in y_hat ])\n",
    "print(y_true)"
   ]
  },
  {
   "cell_type": "code",
   "execution_count": null,
   "metadata": {},
   "outputs": [],
   "source": [
    "m = Recall()\n",
    " \n",
    "m.update_state(y_true, y_hat)\n",
    "\n",
    "m.result().numpy()\n",
    " \n",
    "m = Precision()\n",
    " \n",
    "m.update_state(y_true, y_hat)\n",
    "\n",
    "m.result().numpy()\n",
    "\n",
    "\n",
    "r = Recall()\n",
    "p = Precision()\n",
    "\n",
    "for test_input, test_val, y_true in test_data.as_numpy_iterator():\n",
    "    yhat = siamese_model.predict([test_input, test_val])\n",
    "    r.update_state(y_true, yhat)\n",
    "    p.update_state(y_true,yhat) \n",
    "\n",
    "print(r.result().numpy(), p.result().numpy())\n",
    "\n"
   ]
  },
  {
   "cell_type": "code",
   "execution_count": 12,
   "metadata": {},
   "outputs": [],
   "source": [
    "siamese_model = tf.keras.models.load_model('siamesemodelv2.h5', \n",
    "                                   custom_objects={'L1Dist':L1Dist})"
   ]
  },
  {
   "cell_type": "code",
   "execution_count": 13,
   "metadata": {},
   "outputs": [
    {
     "name": "stdout",
     "output_type": "stream",
     "text": [
      "Model: \"SiameseNetwork\"\n",
      "__________________________________________________________________________________________________\n",
      " Layer (type)                   Output Shape         Param #     Connected to                     \n",
      "==================================================================================================\n",
      " input_img (InputLayer)         [(None, 100, 100, 3  0           []                               \n",
      "                                )]                                                                \n",
      "                                                                                                  \n",
      " validation_img (InputLayer)    [(None, 100, 100, 3  0           []                               \n",
      "                                )]                                                                \n",
      "                                                                                                  \n",
      " embedding (Functional)         (None, 4096)         38960448    ['input_img[0][0]',              \n",
      "                                                                  'validation_img[0][0]']         \n",
      "                                                                                                  \n",
      " l1_dist_1 (L1Dist)             (None, 4096)         0           ['embedding[0][0]',              \n",
      "                                                                  'embedding[1][0]']              \n",
      "                                                                                                  \n",
      " dense_1 (Dense)                (None, 1)            4097        ['l1_dist_1[0][0]']              \n",
      "                                                                                                  \n",
      "==================================================================================================\n",
      "Total params: 38,964,545\n",
      "Trainable params: 38,964,545\n",
      "Non-trainable params: 0\n",
      "__________________________________________________________________________________________________\n",
      "None\n"
     ]
    }
   ],
   "source": [
    "print(siamese_model.summary())"
   ]
  }
 ],
 "metadata": {
  "kernelspec": {
   "display_name": "Python 3.10.7 64-bit",
   "language": "python",
   "name": "python3"
  },
  "language_info": {
   "codemirror_mode": {
    "name": "ipython",
    "version": 3
   },
   "file_extension": ".py",
   "mimetype": "text/x-python",
   "name": "python",
   "nbconvert_exporter": "python",
   "pygments_lexer": "ipython3",
   "version": "3.10.7"
  },
  "vscode": {
   "interpreter": {
    "hash": "80ba4016e8ec853d7b55d6915013d2adae47c4b5f908295f8089a04cc277b65d"
   }
  }
 },
 "nbformat": 4,
 "nbformat_minor": 2
}
